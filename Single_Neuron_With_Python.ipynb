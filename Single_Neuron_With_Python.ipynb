{
  "nbformat": 4,
  "nbformat_minor": 0,
  "metadata": {
    "colab": {
      "provenance": [],
      "authorship_tag": "ABX9TyMwiIxX/LTheWypet5EF6u1",
      "include_colab_link": true
    },
    "kernelspec": {
      "name": "python3",
      "display_name": "Python 3"
    },
    "language_info": {
      "name": "python"
    }
  },
  "cells": [
    {
      "cell_type": "markdown",
      "metadata": {
        "id": "view-in-github",
        "colab_type": "text"
      },
      "source": [
        "<a href=\"https://colab.research.google.com/github/sohag221/Deep-Learning/blob/main/Single_Neuron_With_Python.ipynb\" target=\"_parent\"><img src=\"https://colab.research.google.com/assets/colab-badge.svg\" alt=\"Open In Colab\"/></a>"
      ]
    },
    {
      "cell_type": "code",
      "execution_count": 1,
      "metadata": {
        "id": "1mgua5Au9EhF"
      },
      "outputs": [],
      "source": [
        "import math"
      ]
    },
    {
      "cell_type": "markdown",
      "source": [
        "**Creat Sigmoid Activation Function**"
      ],
      "metadata": {
        "id": "W6kXy3Kn_EbR"
      }
    },
    {
      "cell_type": "code",
      "source": [
        "def sigmoid(value):\n",
        "  return 1/(1+math.exp(-value))"
      ],
      "metadata": {
        "id": "3LJROH6H9M5x"
      },
      "execution_count": 2,
      "outputs": []
    },
    {
      "cell_type": "markdown",
      "source": [
        "**Calculation **"
      ],
      "metadata": {
        "id": "0OdWqkAf_JL4"
      }
    },
    {
      "cell_type": "code",
      "source": [
        "def forwardMove(bias,inputs,weights):\n",
        "  total = bias + sum(inputs * weights for inputs,weights in zip(weights,inputs))\n",
        "  return sigmoid(total)"
      ],
      "metadata": {
        "id": "Rc4Rdrkk9gGA"
      },
      "execution_count": 9,
      "outputs": []
    },
    {
      "cell_type": "markdown",
      "source": [
        "**Test**"
      ],
      "metadata": {
        "id": "6VTXyAwr_Nro"
      }
    },
    {
      "cell_type": "code",
      "source": [
        "weights = [0,1]\n",
        "inputs = [2,3]\n",
        "bias = 0.5\n",
        "\n",
        "output = forwardMove(bias,inputs,weights)\n",
        "print(output)"
      ],
      "metadata": {
        "colab": {
          "base_uri": "https://localhost:8080/"
        },
        "id": "9ZZcK7fR-Dip",
        "outputId": "2e147301-4305-48d6-b761-47b61bed8ec0"
      },
      "execution_count": 11,
      "outputs": [
        {
          "output_type": "stream",
          "name": "stdout",
          "text": [
            "0.9706877692486436\n"
          ]
        }
      ]
    },
    {
      "cell_type": "code",
      "source": [
        "def classify(output):\n",
        "  if output > 0.5:\n",
        "    return 1\n",
        "  else:\n",
        "    return 0"
      ],
      "metadata": {
        "id": "xK3pYJet-TzA"
      },
      "execution_count": 12,
      "outputs": []
    },
    {
      "cell_type": "code",
      "source": [
        "print(classify(output))"
      ],
      "metadata": {
        "colab": {
          "base_uri": "https://localhost:8080/"
        },
        "id": "hft54E2v_ZEI",
        "outputId": "098773d5-4281-4bf0-c218-42c06072da21"
      },
      "execution_count": 13,
      "outputs": [
        {
          "output_type": "stream",
          "name": "stdout",
          "text": [
            "1\n"
          ]
        }
      ]
    },
    {
      "cell_type": "code",
      "source": [],
      "metadata": {
        "id": "idGbxWNF_chP"
      },
      "execution_count": null,
      "outputs": []
    }
  ]
}